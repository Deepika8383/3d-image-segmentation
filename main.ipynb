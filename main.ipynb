{
 "cells": [
  {
   "cell_type": "code",
   "execution_count": 1,
   "metadata": {},
   "outputs": [
    {
     "name": "stdout",
     "output_type": "stream",
     "text": [
      "Found existing installation: numpy 1.24.3Note: you may need to restart the kernel to use updated packages.\n",
      "\n",
      "Uninstalling numpy-1.24.3:\n",
      "  Successfully uninstalled numpy-1.24.3\n",
      "Found existing installation: tensorflow 2.13.0\n",
      "Uninstalling tensorflow-2.13.0:\n",
      "  Successfully uninstalled tensorflow-2.13.0\n",
      "Found existing installation: keras 2.13.1\n",
      "Uninstalling keras-2.13.1:\n",
      "  Successfully uninstalled keras-2.13.1\n",
      "Found existing installation: scikit-image 0.21.0\n",
      "Uninstalling scikit-image-0.21.0:\n",
      "  Successfully uninstalled scikit-image-0.21.0\n",
      "Found existing installation: patchify 0.2.3\n",
      "Uninstalling patchify-0.2.3:\n",
      "  Successfully uninstalled patchify-0.2.3\n",
      "Found existing installation: matplotlib 3.7.1\n",
      "Uninstalling matplotlib-3.7.1:\n",
      "  Successfully uninstalled matplotlib-3.7.1\n",
      "Found existing installation: scikit-learn 1.3.0\n",
      "Uninstalling scikit-learn-1.3.0:\n",
      "  Successfully uninstalled scikit-learn-1.3.0\n",
      "Found existing installation: nibabel 5.1.0\n",
      "Uninstalling nibabel-5.1.0:\n",
      "  Successfully uninstalled nibabel-5.1.0\n",
      "Found existing installation: segmentation-models-3D 1.0.4\n",
      "Uninstalling segmentation-models-3D-1.0.4:\n",
      "  Successfully uninstalled segmentation-models-3D-1.0.4\n",
      "Found existing installation: classification-models-3D 1.0.2\n",
      "Uninstalling classification-models-3D-1.0.2:\n",
      "  Successfully uninstalled classification-models-3D-1.0.2\n",
      "Found existing installation: efficientnet-3D 1.0.0\n",
      "Uninstalling efficientnet-3D-1.0.0:\n",
      "  Successfully uninstalled efficientnet-3D-1.0.0\n"
     ]
    }
   ],
   "source": [
    "# Uninstall old or conflicting versions\n",
    "%pip uninstall numpy tensorflow keras scikit-image patchify matplotlib scikit-learn nibabel segmentation-models-3D classification-models-3D efficientnet-3D -y"
   ]
  },
  {
   "cell_type": "code",
   "execution_count": 2,
   "metadata": {},
   "outputs": [
    {
     "name": "stdout",
     "output_type": "stream",
     "text": [
      "Collecting numpy==1.24.4\n",
      "  Using cached numpy-1.24.4-cp310-cp310-win_amd64.whl (14.8 MB)\n",
      "Installing collected packages: numpy\n",
      "Successfully installed numpy-1.24.4\n",
      "Note: you may need to restart the kernel to use updated packages.\n"
     ]
    },
    {
     "name": "stderr",
     "output_type": "stream",
     "text": [
      "ERROR: pip's dependency resolver does not currently take into account all the packages that are installed. This behaviour is the source of the following dependency conflicts.\n",
      "tensorflow-intel 2.13.0 requires keras<2.14,>=2.13.1, which is not installed.\n",
      "tensorflow-intel 2.13.0 requires numpy<=1.24.3,>=1.22, but you have numpy 1.24.4 which is incompatible.\n",
      "tensorflow-intel 2.13.0 requires typing-extensions<4.6.0,>=3.6.6, but you have typing-extensions 4.13.1 which is incompatible.\n",
      "WARNING: You are using pip version 21.2.3; however, version 25.0.1 is available.\n",
      "You should consider upgrading via the 'c:\\Users\\jaind\\AppData\\Local\\Programs\\Python\\Python310\\python.exe -m pip install --upgrade pip' command.\n"
     ]
    },
    {
     "name": "stdout",
     "output_type": "stream",
     "text": [
      "Collecting tensorflow==2.13.0\n",
      "  Using cached tensorflow-2.13.0-cp310-cp310-win_amd64.whl (1.9 kB)\n",
      "Requirement already satisfied: tensorflow-intel==2.13.0 in c:\\users\\jaind\\appdata\\local\\programs\\python\\python310\\lib\\site-packages (from tensorflow==2.13.0) (2.13.0)\n",
      "Collecting keras<2.14,>=2.13.1\n",
      "  Using cached keras-2.13.1-py3-none-any.whl (1.7 MB)\n",
      "Requirement already satisfied: packaging in c:\\users\\jaind\\appdata\\roaming\\python\\python310\\site-packages (from tensorflow-intel==2.13.0->tensorflow==2.13.0) (24.2)\n",
      "Requirement already satisfied: flatbuffers>=23.1.21 in c:\\users\\jaind\\appdata\\local\\programs\\python\\python310\\lib\\site-packages (from tensorflow-intel==2.13.0->tensorflow==2.13.0) (25.2.10)\n",
      "Requirement already satisfied: tensorflow-estimator<2.14,>=2.13.0 in c:\\users\\jaind\\appdata\\local\\programs\\python\\python310\\lib\\site-packages (from tensorflow-intel==2.13.0->tensorflow==2.13.0) (2.13.0)\n",
      "Requirement already satisfied: astunparse>=1.6.0 in c:\\users\\jaind\\appdata\\local\\programs\\python\\python310\\lib\\site-packages (from tensorflow-intel==2.13.0->tensorflow==2.13.0) (1.6.3)\n",
      "Requirement already satisfied: grpcio<2.0,>=1.24.3 in c:\\users\\jaind\\appdata\\local\\programs\\python\\python310\\lib\\site-packages (from tensorflow-intel==2.13.0->tensorflow==2.13.0) (1.71.0)\n",
      "Requirement already satisfied: opt-einsum>=2.3.2 in c:\\users\\jaind\\appdata\\local\\programs\\python\\python310\\lib\\site-packages (from tensorflow-intel==2.13.0->tensorflow==2.13.0) (3.4.0)\n",
      "Requirement already satisfied: protobuf!=4.21.0,!=4.21.1,!=4.21.2,!=4.21.3,!=4.21.4,!=4.21.5,<5.0.0dev,>=3.20.3 in c:\\users\\jaind\\appdata\\local\\programs\\python\\python310\\lib\\site-packages (from tensorflow-intel==2.13.0->tensorflow==2.13.0) (4.25.6)\n",
      "Collecting typing-extensions<4.6.0,>=3.6.6\n",
      "  Using cached typing_extensions-4.5.0-py3-none-any.whl (27 kB)\n",
      "Requirement already satisfied: termcolor>=1.1.0 in c:\\users\\jaind\\appdata\\local\\programs\\python\\python310\\lib\\site-packages (from tensorflow-intel==2.13.0->tensorflow==2.13.0) (3.0.1)\n",
      "Collecting numpy<=1.24.3,>=1.22\n",
      "  Using cached numpy-1.24.3-cp310-cp310-win_amd64.whl (14.8 MB)\n",
      "Requirement already satisfied: tensorboard<2.14,>=2.13 in c:\\users\\jaind\\appdata\\local\\programs\\python\\python310\\lib\\site-packages (from tensorflow-intel==2.13.0->tensorflow==2.13.0) (2.13.0)\n",
      "Requirement already satisfied: setuptools in c:\\users\\jaind\\appdata\\local\\programs\\python\\python310\\lib\\site-packages (from tensorflow-intel==2.13.0->tensorflow==2.13.0) (57.4.0)\n",
      "Requirement already satisfied: wrapt>=1.11.0 in c:\\users\\jaind\\appdata\\local\\programs\\python\\python310\\lib\\site-packages (from tensorflow-intel==2.13.0->tensorflow==2.13.0) (1.17.2)\n",
      "Requirement already satisfied: h5py>=2.9.0 in c:\\users\\jaind\\appdata\\local\\programs\\python\\python310\\lib\\site-packages (from tensorflow-intel==2.13.0->tensorflow==2.13.0) (3.13.0)\n",
      "Requirement already satisfied: tensorflow-io-gcs-filesystem>=0.23.1 in c:\\users\\jaind\\appdata\\local\\programs\\python\\python310\\lib\\site-packages (from tensorflow-intel==2.13.0->tensorflow==2.13.0) (0.31.0)\n",
      "Requirement already satisfied: gast<=0.4.0,>=0.2.1 in c:\\users\\jaind\\appdata\\local\\programs\\python\\python310\\lib\\site-packages (from tensorflow-intel==2.13.0->tensorflow==2.13.0) (0.4.0)\n",
      "Requirement already satisfied: absl-py>=1.0.0 in c:\\users\\jaind\\appdata\\local\\programs\\python\\python310\\lib\\site-packages (from tensorflow-intel==2.13.0->tensorflow==2.13.0) (2.2.2)\n",
      "Requirement already satisfied: libclang>=13.0.0 in c:\\users\\jaind\\appdata\\local\\programs\\python\\python310\\lib\\site-packages (from tensorflow-intel==2.13.0->tensorflow==2.13.0) (18.1.1)\n",
      "Requirement already satisfied: google-pasta>=0.1.1 in c:\\users\\jaind\\appdata\\local\\programs\\python\\python310\\lib\\site-packages (from tensorflow-intel==2.13.0->tensorflow==2.13.0) (0.2.0)\n",
      "Requirement already satisfied: six>=1.12.0 in c:\\users\\jaind\\appdata\\roaming\\python\\python310\\site-packages (from tensorflow-intel==2.13.0->tensorflow==2.13.0) (1.17.0)\n",
      "Requirement already satisfied: wheel<1.0,>=0.23.0 in c:\\users\\jaind\\appdata\\local\\programs\\python\\python310\\lib\\site-packages (from astunparse>=1.6.0->tensorflow-intel==2.13.0->tensorflow==2.13.0) (0.45.1)\n",
      "Requirement already satisfied: requests<3,>=2.21.0 in c:\\users\\jaind\\appdata\\local\\programs\\python\\python310\\lib\\site-packages (from tensorboard<2.14,>=2.13->tensorflow-intel==2.13.0->tensorflow==2.13.0) (2.32.3)\n",
      "Requirement already satisfied: google-auth-oauthlib<1.1,>=0.5 in c:\\users\\jaind\\appdata\\local\\programs\\python\\python310\\lib\\site-packages (from tensorboard<2.14,>=2.13->tensorflow-intel==2.13.0->tensorflow==2.13.0) (1.0.0)\n",
      "Requirement already satisfied: google-auth<3,>=1.6.3 in c:\\users\\jaind\\appdata\\local\\programs\\python\\python310\\lib\\site-packages (from tensorboard<2.14,>=2.13->tensorflow-intel==2.13.0->tensorflow==2.13.0) (2.38.0)\n",
      "Requirement already satisfied: werkzeug>=1.0.1 in c:\\users\\jaind\\appdata\\local\\programs\\python\\python310\\lib\\site-packages (from tensorboard<2.14,>=2.13->tensorflow-intel==2.13.0->tensorflow==2.13.0) (3.1.3)\n",
      "Requirement already satisfied: markdown>=2.6.8 in c:\\users\\jaind\\appdata\\local\\programs\\python\\python310\\lib\\site-packages (from tensorboard<2.14,>=2.13->tensorflow-intel==2.13.0->tensorflow==2.13.0) (3.7)\n",
      "Requirement already satisfied: tensorboard-data-server<0.8.0,>=0.7.0 in c:\\users\\jaind\\appdata\\local\\programs\\python\\python310\\lib\\site-packages (from tensorboard<2.14,>=2.13->tensorflow-intel==2.13.0->tensorflow==2.13.0) (0.7.2)\n",
      "Requirement already satisfied: cachetools<6.0,>=2.0.0 in c:\\users\\jaind\\appdata\\local\\programs\\python\\python310\\lib\\site-packages (from google-auth<3,>=1.6.3->tensorboard<2.14,>=2.13->tensorflow-intel==2.13.0->tensorflow==2.13.0) (5.5.2)\n",
      "Requirement already satisfied: pyasn1-modules>=0.2.1 in c:\\users\\jaind\\appdata\\local\\programs\\python\\python310\\lib\\site-packages (from google-auth<3,>=1.6.3->tensorboard<2.14,>=2.13->tensorflow-intel==2.13.0->tensorflow==2.13.0) (0.4.2)\n",
      "Requirement already satisfied: rsa<5,>=3.1.4 in c:\\users\\jaind\\appdata\\local\\programs\\python\\python310\\lib\\site-packages (from google-auth<3,>=1.6.3->tensorboard<2.14,>=2.13->tensorflow-intel==2.13.0->tensorflow==2.13.0) (4.9)\n",
      "Requirement already satisfied: requests-oauthlib>=0.7.0 in c:\\users\\jaind\\appdata\\local\\programs\\python\\python310\\lib\\site-packages (from google-auth-oauthlib<1.1,>=0.5->tensorboard<2.14,>=2.13->tensorflow-intel==2.13.0->tensorflow==2.13.0) (2.0.0)\n",
      "Requirement already satisfied: pyasn1<0.7.0,>=0.6.1 in c:\\users\\jaind\\appdata\\local\\programs\\python\\python310\\lib\\site-packages (from pyasn1-modules>=0.2.1->google-auth<3,>=1.6.3->tensorboard<2.14,>=2.13->tensorflow-intel==2.13.0->tensorflow==2.13.0) (0.6.1)\n",
      "Requirement already satisfied: charset-normalizer<4,>=2 in c:\\users\\jaind\\appdata\\local\\programs\\python\\python310\\lib\\site-packages (from requests<3,>=2.21.0->tensorboard<2.14,>=2.13->tensorflow-intel==2.13.0->tensorflow==2.13.0) (3.4.1)\n",
      "Requirement already satisfied: certifi>=2017.4.17 in c:\\users\\jaind\\appdata\\local\\programs\\python\\python310\\lib\\site-packages (from requests<3,>=2.21.0->tensorboard<2.14,>=2.13->tensorflow-intel==2.13.0->tensorflow==2.13.0) (2025.1.31)\n",
      "Requirement already satisfied: urllib3<3,>=1.21.1 in c:\\users\\jaind\\appdata\\local\\programs\\python\\python310\\lib\\site-packages (from requests<3,>=2.21.0->tensorboard<2.14,>=2.13->tensorflow-intel==2.13.0->tensorflow==2.13.0) (2.3.0)\n",
      "Requirement already satisfied: idna<4,>=2.5 in c:\\users\\jaind\\appdata\\local\\programs\\python\\python310\\lib\\site-packages (from requests<3,>=2.21.0->tensorboard<2.14,>=2.13->tensorflow-intel==2.13.0->tensorflow==2.13.0) (3.10)\n",
      "Requirement already satisfied: oauthlib>=3.0.0 in c:\\users\\jaind\\appdata\\local\\programs\\python\\python310\\lib\\site-packages (from requests-oauthlib>=0.7.0->google-auth-oauthlib<1.1,>=0.5->tensorboard<2.14,>=2.13->tensorflow-intel==2.13.0->tensorflow==2.13.0) (3.2.2)\n",
      "Requirement already satisfied: MarkupSafe>=2.1.1 in c:\\users\\jaind\\appdata\\local\\programs\\python\\python310\\lib\\site-packages (from werkzeug>=1.0.1->tensorboard<2.14,>=2.13->tensorflow-intel==2.13.0->tensorflow==2.13.0) (3.0.2)\n",
      "Installing collected packages: numpy, typing-extensions, keras, tensorflow\n",
      "  Attempting uninstall: numpy\n",
      "    Found existing installation: numpy 1.24.4\n",
      "    Uninstalling numpy-1.24.4:\n",
      "      Successfully uninstalled numpy-1.24.4\n",
      "  Attempting uninstall: typing-extensions\n",
      "    Found existing installation: typing-extensions 4.13.1\n",
      "    Uninstalling typing-extensions-4.13.1:\n",
      "      Successfully uninstalled typing-extensions-4.13.1\n",
      "Successfully installed keras-2.13.1 numpy-1.24.3 tensorflow-2.13.0 typing-extensions-4.5.0\n",
      "Note: you may need to restart the kernel to use updated packages.\n"
     ]
    },
    {
     "name": "stderr",
     "output_type": "stream",
     "text": [
      "ERROR: pip's dependency resolver does not currently take into account all the packages that are installed. This behaviour is the source of the following dependency conflicts.\n",
      "ipython 8.34.0 requires typing_extensions>=4.6; python_version < \"3.12\", but you have typing-extensions 4.5.0 which is incompatible.\n",
      "WARNING: You are using pip version 21.2.3; however, version 25.0.1 is available.\n",
      "You should consider upgrading via the 'c:\\Users\\jaind\\AppData\\Local\\Programs\\Python\\Python310\\python.exe -m pip install --upgrade pip' command.\n"
     ]
    },
    {
     "name": "stdout",
     "output_type": "stream",
     "text": [
      "Requirement already satisfied: keras==2.13.1 in c:\\users\\jaind\\appdata\\local\\programs\\python\\python310\\lib\\site-packages (2.13.1)\n",
      "Note: you may need to restart the kernel to use updated packages.\n"
     ]
    },
    {
     "name": "stderr",
     "output_type": "stream",
     "text": [
      "WARNING: You are using pip version 21.2.3; however, version 25.0.1 is available.\n",
      "You should consider upgrading via the 'c:\\Users\\jaind\\AppData\\Local\\Programs\\Python\\Python310\\python.exe -m pip install --upgrade pip' command.\n"
     ]
    },
    {
     "name": "stdout",
     "output_type": "stream",
     "text": [
      "Collecting scikit-image==0.21.0\n",
      "  Using cached scikit_image-0.21.0-cp310-cp310-win_amd64.whl (22.8 MB)\n",
      "Requirement already satisfied: packaging>=21 in c:\\users\\jaind\\appdata\\roaming\\python\\python310\\site-packages (from scikit-image==0.21.0) (24.2)\n",
      "Requirement already satisfied: numpy>=1.21.1 in c:\\users\\jaind\\appdata\\local\\programs\\python\\python310\\lib\\site-packages (from scikit-image==0.21.0) (1.24.3)\n",
      "Requirement already satisfied: PyWavelets>=1.1.1 in c:\\users\\jaind\\appdata\\local\\programs\\python\\python310\\lib\\site-packages (from scikit-image==0.21.0) (1.8.0)\n",
      "Requirement already satisfied: networkx>=2.8 in c:\\users\\jaind\\appdata\\local\\programs\\python\\python310\\lib\\site-packages (from scikit-image==0.21.0) (3.4.2)\n",
      "Requirement already satisfied: scipy>=1.8 in c:\\users\\jaind\\appdata\\local\\programs\\python\\python310\\lib\\site-packages (from scikit-image==0.21.0) (1.15.2)\n",
      "Requirement already satisfied: pillow>=9.0.1 in c:\\users\\jaind\\appdata\\local\\programs\\python\\python310\\lib\\site-packages (from scikit-image==0.21.0) (11.1.0)\n",
      "Requirement already satisfied: imageio>=2.27 in c:\\users\\jaind\\appdata\\local\\programs\\python\\python310\\lib\\site-packages (from scikit-image==0.21.0) (2.37.0)\n",
      "Requirement already satisfied: tifffile>=2022.8.12 in c:\\users\\jaind\\appdata\\local\\programs\\python\\python310\\lib\\site-packages (from scikit-image==0.21.0) (2025.3.30)\n",
      "Requirement already satisfied: lazy_loader>=0.2 in c:\\users\\jaind\\appdata\\local\\programs\\python\\python310\\lib\\site-packages (from scikit-image==0.21.0) (0.4)\n",
      "Installing collected packages: scikit-image\n",
      "Successfully installed scikit-image-0.21.0\n",
      "Note: you may need to restart the kernel to use updated packages.\n"
     ]
    },
    {
     "name": "stderr",
     "output_type": "stream",
     "text": [
      "WARNING: You are using pip version 21.2.3; however, version 25.0.1 is available.\n",
      "You should consider upgrading via the 'c:\\Users\\jaind\\AppData\\Local\\Programs\\Python\\Python310\\python.exe -m pip install --upgrade pip' command.\n"
     ]
    },
    {
     "name": "stdout",
     "output_type": "stream",
     "text": [
      "Collecting patchify==0.2.3\n",
      "  Using cached patchify-0.2.3-py3-none-any.whl (6.6 kB)\n",
      "Requirement already satisfied: numpy<2,>=1 in c:\\users\\jaind\\appdata\\local\\programs\\python\\python310\\lib\\site-packages (from patchify==0.2.3) (1.24.3)\n",
      "Installing collected packages: patchify\n",
      "Successfully installed patchify-0.2.3\n",
      "Note: you may need to restart the kernel to use updated packages.\n"
     ]
    },
    {
     "name": "stderr",
     "output_type": "stream",
     "text": [
      "WARNING: You are using pip version 21.2.3; however, version 25.0.1 is available.\n",
      "You should consider upgrading via the 'c:\\Users\\jaind\\AppData\\Local\\Programs\\Python\\Python310\\python.exe -m pip install --upgrade pip' command.\n"
     ]
    },
    {
     "name": "stdout",
     "output_type": "stream",
     "text": [
      "Collecting matplotlib==3.7.1\n",
      "  Using cached matplotlib-3.7.1-cp310-cp310-win_amd64.whl (7.6 MB)\n",
      "Requirement already satisfied: python-dateutil>=2.7 in c:\\users\\jaind\\appdata\\roaming\\python\\python310\\site-packages (from matplotlib==3.7.1) (2.9.0.post0)\n",
      "Requirement already satisfied: numpy>=1.20 in c:\\users\\jaind\\appdata\\local\\programs\\python\\python310\\lib\\site-packages (from matplotlib==3.7.1) (1.24.3)\n",
      "Requirement already satisfied: contourpy>=1.0.1 in c:\\users\\jaind\\appdata\\local\\programs\\python\\python310\\lib\\site-packages (from matplotlib==3.7.1) (1.3.1)\n",
      "Requirement already satisfied: cycler>=0.10 in c:\\users\\jaind\\appdata\\local\\programs\\python\\python310\\lib\\site-packages (from matplotlib==3.7.1) (0.12.1)\n",
      "Requirement already satisfied: fonttools>=4.22.0 in c:\\users\\jaind\\appdata\\local\\programs\\python\\python310\\lib\\site-packages (from matplotlib==3.7.1) (4.57.0)\n",
      "Requirement already satisfied: kiwisolver>=1.0.1 in c:\\users\\jaind\\appdata\\local\\programs\\python\\python310\\lib\\site-packages (from matplotlib==3.7.1) (1.4.8)\n",
      "Requirement already satisfied: pyparsing>=2.3.1 in c:\\users\\jaind\\appdata\\local\\programs\\python\\python310\\lib\\site-packages (from matplotlib==3.7.1) (3.2.3)\n",
      "Requirement already satisfied: pillow>=6.2.0 in c:\\users\\jaind\\appdata\\local\\programs\\python\\python310\\lib\\site-packages (from matplotlib==3.7.1) (11.1.0)\n",
      "Requirement already satisfied: packaging>=20.0 in c:\\users\\jaind\\appdata\\roaming\\python\\python310\\site-packages (from matplotlib==3.7.1) (24.2)\n",
      "Requirement already satisfied: six>=1.5 in c:\\users\\jaind\\appdata\\roaming\\python\\python310\\site-packages (from python-dateutil>=2.7->matplotlib==3.7.1) (1.17.0)\n",
      "Installing collected packages: matplotlib\n",
      "Successfully installed matplotlib-3.7.1\n",
      "Note: you may need to restart the kernel to use updated packages.\n"
     ]
    },
    {
     "name": "stderr",
     "output_type": "stream",
     "text": [
      "WARNING: You are using pip version 21.2.3; however, version 25.0.1 is available.\n",
      "You should consider upgrading via the 'c:\\Users\\jaind\\AppData\\Local\\Programs\\Python\\Python310\\python.exe -m pip install --upgrade pip' command.\n"
     ]
    },
    {
     "name": "stdout",
     "output_type": "stream",
     "text": [
      "Collecting scikit-learn==1.3.0\n",
      "  Using cached scikit_learn-1.3.0-cp310-cp310-win_amd64.whl (9.2 MB)\n",
      "Requirement already satisfied: joblib>=1.1.1 in c:\\users\\jaind\\appdata\\local\\programs\\python\\python310\\lib\\site-packages (from scikit-learn==1.3.0) (1.4.2)\n",
      "Requirement already satisfied: numpy>=1.17.3 in c:\\users\\jaind\\appdata\\local\\programs\\python\\python310\\lib\\site-packages (from scikit-learn==1.3.0) (1.24.3)\n",
      "Requirement already satisfied: scipy>=1.5.0 in c:\\users\\jaind\\appdata\\local\\programs\\python\\python310\\lib\\site-packages (from scikit-learn==1.3.0) (1.15.2)\n",
      "Requirement already satisfied: threadpoolctl>=2.0.0 in c:\\users\\jaind\\appdata\\local\\programs\\python\\python310\\lib\\site-packages (from scikit-learn==1.3.0) (3.6.0)\n",
      "Installing collected packages: scikit-learn\n",
      "Successfully installed scikit-learn-1.3.0\n",
      "Note: you may need to restart the kernel to use updated packages.\n"
     ]
    },
    {
     "name": "stderr",
     "output_type": "stream",
     "text": [
      "WARNING: You are using pip version 21.2.3; however, version 25.0.1 is available.\n",
      "You should consider upgrading via the 'c:\\Users\\jaind\\AppData\\Local\\Programs\\Python\\Python310\\python.exe -m pip install --upgrade pip' command.\n"
     ]
    },
    {
     "name": "stdout",
     "output_type": "stream",
     "text": [
      "Collecting nibabel==5.1.0\n",
      "  Using cached nibabel-5.1.0-py3-none-any.whl (3.3 MB)\n",
      "Requirement already satisfied: packaging>=17 in c:\\users\\jaind\\appdata\\roaming\\python\\python310\\site-packages (from nibabel==5.1.0) (24.2)\n",
      "Requirement already satisfied: numpy>=1.19 in c:\\users\\jaind\\appdata\\local\\programs\\python\\python310\\lib\\site-packages (from nibabel==5.1.0) (1.24.3)\n",
      "Installing collected packages: nibabel\n",
      "Successfully installed nibabel-5.1.0\n",
      "Note: you may need to restart the kernel to use updated packages.\n"
     ]
    },
    {
     "name": "stderr",
     "output_type": "stream",
     "text": [
      "WARNING: You are using pip version 21.2.3; however, version 25.0.1 is available.\n",
      "You should consider upgrading via the 'c:\\Users\\jaind\\AppData\\Local\\Programs\\Python\\Python310\\python.exe -m pip install --upgrade pip' command.\n"
     ]
    },
    {
     "name": "stdout",
     "output_type": "stream",
     "text": [
      "Collecting segmentation-models-3D==1.0.4\n",
      "  Using cached segmentation_models_3D-1.0.4-py3-none-any.whl (33 kB)\n",
      "Collecting classification-models-3D>=1.0.6\n",
      "  Using cached classification_models_3D-1.1.0-py3-none-any.whl (69 kB)\n",
      "Requirement already satisfied: keras-applications>=1.0.8 in c:\\users\\jaind\\appdata\\local\\programs\\python\\python310\\lib\\site-packages (from segmentation-models-3D==1.0.4) (1.0.8)\n",
      "Requirement already satisfied: tensorflow>=2.8.0 in c:\\users\\jaind\\appdata\\local\\programs\\python\\python310\\lib\\site-packages (from segmentation-models-3D==1.0.4) (2.13.0)\n",
      "Requirement already satisfied: h5py in c:\\users\\jaind\\appdata\\local\\programs\\python\\python310\\lib\\site-packages (from keras-applications>=1.0.8->segmentation-models-3D==1.0.4) (3.13.0)\n",
      "Requirement already satisfied: numpy>=1.9.1 in c:\\users\\jaind\\appdata\\local\\programs\\python\\python310\\lib\\site-packages (from keras-applications>=1.0.8->segmentation-models-3D==1.0.4) (1.24.3)\n",
      "Requirement already satisfied: tensorflow-intel==2.13.0 in c:\\users\\jaind\\appdata\\local\\programs\\python\\python310\\lib\\site-packages (from tensorflow>=2.8.0->segmentation-models-3D==1.0.4) (2.13.0)\n",
      "Requirement already satisfied: opt-einsum>=2.3.2 in c:\\users\\jaind\\appdata\\local\\programs\\python\\python310\\lib\\site-packages (from tensorflow-intel==2.13.0->tensorflow>=2.8.0->segmentation-models-3D==1.0.4) (3.4.0)\n",
      "Requirement already satisfied: flatbuffers>=23.1.21 in c:\\users\\jaind\\appdata\\local\\programs\\python\\python310\\lib\\site-packages (from tensorflow-intel==2.13.0->tensorflow>=2.8.0->segmentation-models-3D==1.0.4) (25.2.10)\n",
      "Requirement already satisfied: tensorflow-io-gcs-filesystem>=0.23.1 in c:\\users\\jaind\\appdata\\local\\programs\\python\\python310\\lib\\site-packages (from tensorflow-intel==2.13.0->tensorflow>=2.8.0->segmentation-models-3D==1.0.4) (0.31.0)\n",
      "Requirement already satisfied: typing-extensions<4.6.0,>=3.6.6 in c:\\users\\jaind\\appdata\\local\\programs\\python\\python310\\lib\\site-packages (from tensorflow-intel==2.13.0->tensorflow>=2.8.0->segmentation-models-3D==1.0.4) (4.5.0)\n",
      "Requirement already satisfied: setuptools in c:\\users\\jaind\\appdata\\local\\programs\\python\\python310\\lib\\site-packages (from tensorflow-intel==2.13.0->tensorflow>=2.8.0->segmentation-models-3D==1.0.4) (57.4.0)\n",
      "Requirement already satisfied: grpcio<2.0,>=1.24.3 in c:\\users\\jaind\\appdata\\local\\programs\\python\\python310\\lib\\site-packages (from tensorflow-intel==2.13.0->tensorflow>=2.8.0->segmentation-models-3D==1.0.4) (1.71.0)\n",
      "Requirement already satisfied: termcolor>=1.1.0 in c:\\users\\jaind\\appdata\\local\\programs\\python\\python310\\lib\\site-packages (from tensorflow-intel==2.13.0->tensorflow>=2.8.0->segmentation-models-3D==1.0.4) (3.0.1)\n",
      "Requirement already satisfied: protobuf!=4.21.0,!=4.21.1,!=4.21.2,!=4.21.3,!=4.21.4,!=4.21.5,<5.0.0dev,>=3.20.3 in c:\\users\\jaind\\appdata\\local\\programs\\python\\python310\\lib\\site-packages (from tensorflow-intel==2.13.0->tensorflow>=2.8.0->segmentation-models-3D==1.0.4) (4.25.6)\n",
      "Requirement already satisfied: gast<=0.4.0,>=0.2.1 in c:\\users\\jaind\\appdata\\local\\programs\\python\\python310\\lib\\site-packages (from tensorflow-intel==2.13.0->tensorflow>=2.8.0->segmentation-models-3D==1.0.4) (0.4.0)\n",
      "Requirement already satisfied: keras<2.14,>=2.13.1 in c:\\users\\jaind\\appdata\\local\\programs\\python\\python310\\lib\\site-packages (from tensorflow-intel==2.13.0->tensorflow>=2.8.0->segmentation-models-3D==1.0.4) (2.13.1)\n",
      "Requirement already satisfied: six>=1.12.0 in c:\\users\\jaind\\appdata\\roaming\\python\\python310\\site-packages (from tensorflow-intel==2.13.0->tensorflow>=2.8.0->segmentation-models-3D==1.0.4) (1.17.0)\n",
      "Requirement already satisfied: google-pasta>=0.1.1 in c:\\users\\jaind\\appdata\\local\\programs\\python\\python310\\lib\\site-packages (from tensorflow-intel==2.13.0->tensorflow>=2.8.0->segmentation-models-3D==1.0.4) (0.2.0)\n",
      "Requirement already satisfied: astunparse>=1.6.0 in c:\\users\\jaind\\appdata\\local\\programs\\python\\python310\\lib\\site-packages (from tensorflow-intel==2.13.0->tensorflow>=2.8.0->segmentation-models-3D==1.0.4) (1.6.3)\n",
      "Requirement already satisfied: packaging in c:\\users\\jaind\\appdata\\roaming\\python\\python310\\site-packages (from tensorflow-intel==2.13.0->tensorflow>=2.8.0->segmentation-models-3D==1.0.4) (24.2)\n",
      "Requirement already satisfied: wrapt>=1.11.0 in c:\\users\\jaind\\appdata\\local\\programs\\python\\python310\\lib\\site-packages (from tensorflow-intel==2.13.0->tensorflow>=2.8.0->segmentation-models-3D==1.0.4) (1.17.2)\n",
      "Requirement already satisfied: libclang>=13.0.0 in c:\\users\\jaind\\appdata\\local\\programs\\python\\python310\\lib\\site-packages (from tensorflow-intel==2.13.0->tensorflow>=2.8.0->segmentation-models-3D==1.0.4) (18.1.1)\n",
      "Requirement already satisfied: tensorboard<2.14,>=2.13 in c:\\users\\jaind\\appdata\\local\\programs\\python\\python310\\lib\\site-packages (from tensorflow-intel==2.13.0->tensorflow>=2.8.0->segmentation-models-3D==1.0.4) (2.13.0)\n",
      "Requirement already satisfied: absl-py>=1.0.0 in c:\\users\\jaind\\appdata\\local\\programs\\python\\python310\\lib\\site-packages (from tensorflow-intel==2.13.0->tensorflow>=2.8.0->segmentation-models-3D==1.0.4) (2.2.2)\n",
      "Requirement already satisfied: tensorflow-estimator<2.14,>=2.13.0 in c:\\users\\jaind\\appdata\\local\\programs\\python\\python310\\lib\\site-packages (from tensorflow-intel==2.13.0->tensorflow>=2.8.0->segmentation-models-3D==1.0.4) (2.13.0)\n",
      "Requirement already satisfied: wheel<1.0,>=0.23.0 in c:\\users\\jaind\\appdata\\local\\programs\\python\\python310\\lib\\site-packages (from astunparse>=1.6.0->tensorflow-intel==2.13.0->tensorflow>=2.8.0->segmentation-models-3D==1.0.4) (0.45.1)\n",
      "Requirement already satisfied: google-auth-oauthlib<1.1,>=0.5 in c:\\users\\jaind\\appdata\\local\\programs\\python\\python310\\lib\\site-packages (from tensorboard<2.14,>=2.13->tensorflow-intel==2.13.0->tensorflow>=2.8.0->segmentation-models-3D==1.0.4) (1.0.0)\n",
      "Requirement already satisfied: google-auth<3,>=1.6.3 in c:\\users\\jaind\\appdata\\local\\programs\\python\\python310\\lib\\site-packages (from tensorboard<2.14,>=2.13->tensorflow-intel==2.13.0->tensorflow>=2.8.0->segmentation-models-3D==1.0.4) (2.38.0)\n",
      "Requirement already satisfied: markdown>=2.6.8 in c:\\users\\jaind\\appdata\\local\\programs\\python\\python310\\lib\\site-packages (from tensorboard<2.14,>=2.13->tensorflow-intel==2.13.0->tensorflow>=2.8.0->segmentation-models-3D==1.0.4) (3.7)\n",
      "Requirement already satisfied: requests<3,>=2.21.0 in c:\\users\\jaind\\appdata\\local\\programs\\python\\python310\\lib\\site-packages (from tensorboard<2.14,>=2.13->tensorflow-intel==2.13.0->tensorflow>=2.8.0->segmentation-models-3D==1.0.4) (2.32.3)\n",
      "Requirement already satisfied: tensorboard-data-server<0.8.0,>=0.7.0 in c:\\users\\jaind\\appdata\\local\\programs\\python\\python310\\lib\\site-packages (from tensorboard<2.14,>=2.13->tensorflow-intel==2.13.0->tensorflow>=2.8.0->segmentation-models-3D==1.0.4) (0.7.2)\n",
      "Requirement already satisfied: werkzeug>=1.0.1 in c:\\users\\jaind\\appdata\\local\\programs\\python\\python310\\lib\\site-packages (from tensorboard<2.14,>=2.13->tensorflow-intel==2.13.0->tensorflow>=2.8.0->segmentation-models-3D==1.0.4) (3.1.3)\n",
      "Requirement already satisfied: rsa<5,>=3.1.4 in c:\\users\\jaind\\appdata\\local\\programs\\python\\python310\\lib\\site-packages (from google-auth<3,>=1.6.3->tensorboard<2.14,>=2.13->tensorflow-intel==2.13.0->tensorflow>=2.8.0->segmentation-models-3D==1.0.4) (4.9)\n",
      "Requirement already satisfied: pyasn1-modules>=0.2.1 in c:\\users\\jaind\\appdata\\local\\programs\\python\\python310\\lib\\site-packages (from google-auth<3,>=1.6.3->tensorboard<2.14,>=2.13->tensorflow-intel==2.13.0->tensorflow>=2.8.0->segmentation-models-3D==1.0.4) (0.4.2)\n",
      "Requirement already satisfied: cachetools<6.0,>=2.0.0 in c:\\users\\jaind\\appdata\\local\\programs\\python\\python310\\lib\\site-packages (from google-auth<3,>=1.6.3->tensorboard<2.14,>=2.13->tensorflow-intel==2.13.0->tensorflow>=2.8.0->segmentation-models-3D==1.0.4) (5.5.2)\n",
      "Requirement already satisfied: requests-oauthlib>=0.7.0 in c:\\users\\jaind\\appdata\\local\\programs\\python\\python310\\lib\\site-packages (from google-auth-oauthlib<1.1,>=0.5->tensorboard<2.14,>=2.13->tensorflow-intel==2.13.0->tensorflow>=2.8.0->segmentation-models-3D==1.0.4) (2.0.0)\n",
      "Requirement already satisfied: pyasn1<0.7.0,>=0.6.1 in c:\\users\\jaind\\appdata\\local\\programs\\python\\python310\\lib\\site-packages (from pyasn1-modules>=0.2.1->google-auth<3,>=1.6.3->tensorboard<2.14,>=2.13->tensorflow-intel==2.13.0->tensorflow>=2.8.0->segmentation-models-3D==1.0.4) (0.6.1)\n",
      "Requirement already satisfied: charset-normalizer<4,>=2 in c:\\users\\jaind\\appdata\\local\\programs\\python\\python310\\lib\\site-packages (from requests<3,>=2.21.0->tensorboard<2.14,>=2.13->tensorflow-intel==2.13.0->tensorflow>=2.8.0->segmentation-models-3D==1.0.4) (3.4.1)\n",
      "Requirement already satisfied: idna<4,>=2.5 in c:\\users\\jaind\\appdata\\local\\programs\\python\\python310\\lib\\site-packages (from requests<3,>=2.21.0->tensorboard<2.14,>=2.13->tensorflow-intel==2.13.0->tensorflow>=2.8.0->segmentation-models-3D==1.0.4) (3.10)\n",
      "Requirement already satisfied: urllib3<3,>=1.21.1 in c:\\users\\jaind\\appdata\\local\\programs\\python\\python310\\lib\\site-packages (from requests<3,>=2.21.0->tensorboard<2.14,>=2.13->tensorflow-intel==2.13.0->tensorflow>=2.8.0->segmentation-models-3D==1.0.4) (2.3.0)\n",
      "Requirement already satisfied: certifi>=2017.4.17 in c:\\users\\jaind\\appdata\\local\\programs\\python\\python310\\lib\\site-packages (from requests<3,>=2.21.0->tensorboard<2.14,>=2.13->tensorflow-intel==2.13.0->tensorflow>=2.8.0->segmentation-models-3D==1.0.4) (2025.1.31)\n",
      "Requirement already satisfied: oauthlib>=3.0.0 in c:\\users\\jaind\\appdata\\local\\programs\\python\\python310\\lib\\site-packages (from requests-oauthlib>=0.7.0->google-auth-oauthlib<1.1,>=0.5->tensorboard<2.14,>=2.13->tensorflow-intel==2.13.0->tensorflow>=2.8.0->segmentation-models-3D==1.0.4) (3.2.2)\n",
      "Requirement already satisfied: MarkupSafe>=2.1.1 in c:\\users\\jaind\\appdata\\local\\programs\\python\\python310\\lib\\site-packages (from werkzeug>=1.0.1->tensorboard<2.14,>=2.13->tensorflow-intel==2.13.0->tensorflow>=2.8.0->segmentation-models-3D==1.0.4) (3.0.2)\n",
      "Installing collected packages: classification-models-3D, segmentation-models-3D\n",
      "Successfully installed classification-models-3D-1.1.0 segmentation-models-3D-1.0.4\n",
      "Note: you may need to restart the kernel to use updated packages.\n"
     ]
    },
    {
     "name": "stderr",
     "output_type": "stream",
     "text": [
      "WARNING: You are using pip version 21.2.3; however, version 25.0.1 is available.\n",
      "You should consider upgrading via the 'c:\\Users\\jaind\\AppData\\Local\\Programs\\Python\\Python310\\python.exe -m pip install --upgrade pip' command.\n"
     ]
    },
    {
     "name": "stdout",
     "output_type": "stream",
     "text": [
      "Collecting classification-models-3D==1.0.2\n",
      "  Using cached classification_models_3D-1.0.2-py3-none-any.whl (45 kB)\n",
      "Requirement already satisfied: keras>=2.2.0 in c:\\users\\jaind\\appdata\\local\\programs\\python\\python310\\lib\\site-packages (from classification-models-3D==1.0.2) (2.13.1)\n",
      "Requirement already satisfied: numpy in c:\\users\\jaind\\appdata\\local\\programs\\python\\python310\\lib\\site-packages (from classification-models-3D==1.0.2) (1.24.3)\n",
      "Installing collected packages: classification-models-3D\n",
      "  Attempting uninstall: classification-models-3D\n",
      "    Found existing installation: classification-models-3D 1.1.0\n",
      "    Uninstalling classification-models-3D-1.1.0:\n",
      "      Successfully uninstalled classification-models-3D-1.1.0\n",
      "Successfully installed classification-models-3D-1.0.2\n",
      "Note: you may need to restart the kernel to use updated packages.\n"
     ]
    },
    {
     "name": "stderr",
     "output_type": "stream",
     "text": [
      "ERROR: pip's dependency resolver does not currently take into account all the packages that are installed. This behaviour is the source of the following dependency conflicts.\n",
      "segmentation-models-3d 1.0.4 requires classification-models-3D>=1.0.6, but you have classification-models-3d 1.0.2 which is incompatible.\n",
      "WARNING: You are using pip version 21.2.3; however, version 25.0.1 is available.\n",
      "You should consider upgrading via the 'c:\\Users\\jaind\\AppData\\Local\\Programs\\Python\\Python310\\python.exe -m pip install --upgrade pip' command.\n"
     ]
    },
    {
     "name": "stdout",
     "output_type": "stream",
     "text": [
      "Collecting efficientnet-3D==1.0.0\n",
      "  Using cached efficientnet_3D-1.0.0-py3-none-any.whl (14 kB)\n",
      "Requirement already satisfied: keras>=2.2.0 in c:\\users\\jaind\\appdata\\local\\programs\\python\\python310\\lib\\site-packages (from efficientnet-3D==1.0.0) (2.13.1)\n",
      "Requirement already satisfied: numpy in c:\\users\\jaind\\appdata\\local\\programs\\python\\python310\\lib\\site-packages (from efficientnet-3D==1.0.0) (1.24.3)\n",
      "Installing collected packages: efficientnet-3D\n",
      "Successfully installed efficientnet-3D-1.0.0\n",
      "Note: you may need to restart the kernel to use updated packages.\n"
     ]
    },
    {
     "name": "stderr",
     "output_type": "stream",
     "text": [
      "WARNING: You are using pip version 21.2.3; however, version 25.0.1 is available.\n",
      "You should consider upgrading via the 'c:\\Users\\jaind\\AppData\\Local\\Programs\\Python\\Python310\\python.exe -m pip install --upgrade pip' command.\n"
     ]
    }
   ],
   "source": [
    "# Install fixed versions only\n",
    "%pip install numpy==1.24.4 \n",
    "%pip install tensorflow==2.13.0 \n",
    "%pip install keras==2.13.1 \n",
    "%pip install scikit-image==0.21.0\n",
    "%pip install patchify==0.2.3 \n",
    "%pip install matplotlib==3.7.1 \n",
    "%pip install scikit-learn==1.3.0 \n",
    "%pip install nibabel==5.1.0 \n",
    "%pip install segmentation-models-3D==1.0.4 \n",
    "%pip install classification-models-3D==1.0.2 \n",
    "%pip install efficientnet-3D==1.0.0"
   ]
  },
  {
   "cell_type": "code",
   "execution_count": 3,
   "metadata": {},
   "outputs": [
    {
     "name": "stdout",
     "output_type": "stream",
     "text": [
      "Segmentation Models: using `tf.keras` framework.\n",
      "numpy: 1.24.3\n",
      "tensorflow: 2.13.0\n",
      "keras: 2.13.1\n",
      "scikit-image: 0.21.0\n",
      "matplotlib: 3.7.1\n",
      "scikit-learn: 1.3.0\n",
      "nibabel: 5.1.0\n",
      "segmentation-models-3D: 1.0.4\n",
      "classification-models-3D: 1.0.0\n",
      "efficientnet-3D: 1.0.0\n"
     ]
    }
   ],
   "source": [
    "import numpy\n",
    "import tensorflow\n",
    "import keras\n",
    "import skimage\n",
    "import patchify\n",
    "import matplotlib\n",
    "import sklearn\n",
    "import nibabel\n",
    "import segmentation_models_3D\n",
    "import classification_models_3D\n",
    "import efficientnet_3D\n",
    "\n",
    "print(\"numpy:\", numpy.__version__)\n",
    "print(\"tensorflow:\", tensorflow.__version__)\n",
    "print(\"keras:\", keras.__version__)\n",
    "print(\"scikit-image:\", skimage.__version__)\n",
    "print(\"matplotlib:\", matplotlib.__version__)\n",
    "print(\"scikit-learn:\", sklearn.__version__)\n",
    "print(\"nibabel:\", nibabel.__version__)\n",
    "print(\"segmentation-models-3D:\", segmentation_models_3D.__version__)\n",
    "print(\"classification-models-3D:\", classification_models_3D.__version__)\n",
    "print(\"efficientnet-3D:\", efficientnet_3D.__version__)"
   ]
  },
  {
   "cell_type": "code",
   "execution_count": 4,
   "metadata": {},
   "outputs": [],
   "source": [
    "import segmentation_models_3D as sm"
   ]
  },
  {
   "cell_type": "code",
   "execution_count": 5,
   "metadata": {},
   "outputs": [],
   "source": [
    "from skimage import io\n",
    "from patchify import patchify, unpatchify\n",
    "import numpy as np\n",
    "from matplotlib import pyplot as plt\n",
    "from keras import backend as K\n",
    "from keras.utils import to_categorical\n",
    "from sklearn.model_selection import train_test_split\n",
    "import nibabel as nib"
   ]
  },
  {
   "cell_type": "code",
   "execution_count": 6,
   "metadata": {},
   "outputs": [
    {
     "name": "stdout",
     "output_type": "stream",
     "text": [
      "Original Image Shape: (512, 512, 206)\n",
      "Padded Image Shape: (512, 512, 256)\n",
      "Image patches shape before reshaping: (8, 8, 4, 64, 64, 64)\n",
      "Mask patches shape before reshaping: (8, 8, 4, 64, 64, 64)\n",
      "Final Image Patches Shape: (256, 1, 64, 64, 64)\n",
      "Final Mask Patches Shape: (256, 1, 64, 64, 64)\n",
      "Total Image Patches: 256\n",
      "Total Mask Patches: 256\n"
     ]
    }
   ],
   "source": [
    "import nibabel as nib\n",
    "import numpy as np\n",
    "from patchify import patchify\n",
    "import math\n",
    "\n",
    "# Load the .nii.gz image and mask\n",
    "image_nifti = nib.load('./Data_Subset/images/ct_1003_image.nii.gz')\n",
    "mask_nifti = nib.load('./Data_Subset/labels/ct_1003_label.nii.gz')\n",
    "\n",
    "# Convert to NumPy arrays\n",
    "image = np.array(image_nifti.get_fdata(), dtype=np.float32)\n",
    "mask = np.array(mask_nifti.get_fdata(), dtype=np.uint8)  # Assuming binary mask\n",
    "\n",
    "# Get original dimensions\n",
    "H, W, D = image.shape  # Shape = (Height, Width, Depth)\n",
    "print(f\"Original Image Shape: {image.shape}\")\n",
    "\n",
    "# Compute new depth (nearest multiple of 64)\n",
    "new_depth = math.ceil(D / 64) * 64\n",
    "depth_padding = new_depth - D\n",
    "\n",
    "# Pad depth dimension with zeros (only in the last axis)\n",
    "image_padded = np.pad(image, ((0, 0), (0, 0), (0, depth_padding)), mode='constant', constant_values=0)\n",
    "mask_padded = np.pad(mask, ((0, 0), (0, 0), (0, depth_padding)), mode='constant', constant_values=0)\n",
    "\n",
    "print(f\"Padded Image Shape: {image_padded.shape}\")\n",
    "\n",
    "# Extract 3D patches of (64, 64, 64) with step size 64\n",
    "image_patches = patchify(image_padded, (64, 64, 64), step=64)\n",
    "mask_patches = patchify(mask_padded, (64, 64, 64), step=64)\n",
    "\n",
    "print(f\"Image patches shape before reshaping: {image_patches.shape}\")\n",
    "print(f\"Mask patches shape before reshaping: {mask_patches.shape}\")\n",
    "\n",
    "# Reshape patches for training\n",
    "image_patches = image_patches.reshape(-1, 64, 64, 64)  # Convert to (N, 64, 64, 64)\n",
    "mask_patches = mask_patches.reshape(-1, 64, 64, 64)\n",
    "\n",
    "# Add channel dimension (1 for grayscale images)\n",
    "image_patches = image_patches[:, np.newaxis, :, :, :]  # Shape: (N, 1, 64, 64, 64)\n",
    "mask_patches = mask_patches[:, np.newaxis, :, :, :]\n",
    "\n",
    "print(f\"Final Image Patches Shape: {image_patches.shape}\")  # (N, 1, 64, 64, 64)\n",
    "print(f\"Final Mask Patches Shape: {mask_patches.shape}\")  # (N, 1, 64, 64, 64)\n",
    "\n",
    "# Total patches count\n",
    "print(f\"Total Image Patches: {image_patches.shape[0]}\")\n",
    "print(f\"Total Mask Patches: {mask_patches.shape[0]}\")\n"
   ]
  },
  {
   "cell_type": "code",
   "execution_count": 7,
   "metadata": {},
   "outputs": [
    {
     "data": {
      "image/png": "[encoded data removed]",
      "text/plain": [
       "<Figure size 1200x600 with 6 Axes>"
      ]
     },
     "metadata": {},
     "output_type": "display_data"
    }
   ],
   "source": [
    "import matplotlib.pyplot as plt\n",
    "import numpy as np\n",
    "\n",
    "# Select a random patch index\n",
    "patch_index = 114\n",
    "sample_patch = image_patches[patch_index, 0]  # Shape: (64, 64, 64)\n",
    "sample_mask = mask_patches[patch_index, 0]    # Corresponding mask patch\n",
    "\n",
    "# Randomly select 3 depth slices\n",
    "depth_slices = np.random.choice(range(64), 3, replace=False)\n",
    "\n",
    "# Create a 2-row grid (3 columns): Top row (image slices), Bottom row (mask slices)\n",
    "fig, axes = plt.subplots(2, 3, figsize=(12, 6))\n",
    "\n",
    "for i in range(3):\n",
    "    depth = depth_slices[i]\n",
    "\n",
    "    # Image slice (Top row)\n",
    "    axes[0, i].imshow(sample_patch[:, :, depth], cmap='plasma')\n",
    "    axes[0, i].set_title(f\"Image - Depth {depth}\")\n",
    "    axes[0, i].axis(\"off\")\n",
    "\n",
    "    # Mask slice (Bottom row)\n",
    "    axes[1, i].imshow(sample_mask[:, :, depth], cmap='gray')\n",
    "    axes[1, i].set_title(f\"Mask - Depth {depth}\")\n",
    "    axes[1, i].axis(\"off\")\n",
    "\n",
    "plt.suptitle(f\"Patch {patch_index}: Image & Mask Slices\", fontsize=14)\n",
    "plt.tight_layout()\n",
    "plt.show()\n"
   ]
  },
  {
   "cell_type": "code",
   "execution_count": 8,
   "metadata": {},
   "outputs": [
    {
     "name": "stdout",
     "output_type": "stream",
     "text": [
      "(256, 1, 64, 64, 64)\n"
     ]
    }
   ],
   "source": [
    "print(image_patches.shape)\n",
    "# [patches, channels, height , width, depth]\n",
    "# 256 patches and 1 grayscale channel , 64 x 64 x 64 - as patch volumen size"
   ]
  },
  {
   "cell_type": "code",
   "execution_count": 9,
   "metadata": {},
   "outputs": [],
   "source": [
    "n_classes = 8"
   ]
  },
  {
   "cell_type": "code",
   "execution_count": 10,
   "metadata": {},
   "outputs": [
    {
     "name": "stdout",
     "output_type": "stream",
     "text": [
      "X_train shape: (230, 64, 64, 64, 3)\n",
      "y_train shape: (230, 64, 64, 64, 8)\n",
      "X_test shape: (26, 64, 64, 64, 3)\n",
      "y_test shape: (26, 64, 64, 64, 8)\n"
     ]
    }
   ],
   "source": [
    "# Convert grayscale images (1 channel) to 3 channels\n",
    "train_img = np.repeat(image_patches, 3, axis=1)  # Shape: (256, 3, 64, 64, 64)\n",
    "\n",
    "# One-hot encode masks\n",
    "train_mask_cat = to_categorical(mask_patches, num_classes=n_classes)  # Shape: (256, 1, 64, 64, 64, 8)\n",
    "\n",
    "# Remove redundant channel dimension for masks\n",
    "train_mask_cat = train_mask_cat.squeeze(1)  # New shape: (256, 64, 64, 64, 8)\n",
    "\n",
    "# Train-test split\n",
    "X_train, X_test, y_train, y_test = train_test_split(\n",
    "    train_img, train_mask_cat, test_size=0.10, random_state=0\n",
    ")\n",
    "\n",
    "X_train = np.transpose(X_train, (0, 2, 3, 4, 1))  # (230, 64, 64, 64, 3)\n",
    "X_test = np.transpose(X_test, (0, 2, 3, 4, 1))    # (26, 64, 64, 64, 3)\n",
    "\n",
    "\n",
    "print(\"X_train shape:\", X_train.shape)  # ✅ (230, 64, 64, 64, 3)\n",
    "print(\"y_train shape:\", y_train.shape)  # ✅ (230, 64, 64, 64, 8)\n",
    "print(\"X_test shape:\", X_test.shape)    # ✅ (26, 64, 64, 64, 3)\n",
    "print(\"y_test shape:\", y_test.shape)    # ✅ (26, 64, 64, 64, 8)\n"
   ]
  },
  {
   "cell_type": "code",
   "execution_count": 11,
   "metadata": {},
   "outputs": [],
   "source": [
    "#Define parameters for our model.\n",
    "\n",
    "encoder_weights = 'imagenet'\n",
    "BACKBONE = 'vgg16'  \n",
    "activation = 'softmax'\n",
    "patch_size = 64\n",
    "n_classes = 8\n",
    "channels = 3\n",
    "\n",
    "LR = 0.0001\n",
    "optim = keras.optimizers.Adam(learning_rate = LR)\n",
    "\n",
    "# Segmentation models losses can be combined together by '+' and scaled by integer or float factor\n",
    "# Losses\n",
    "dice_loss = sm.losses.DiceLoss(class_weights=np.array([1.0]*n_classes))\n",
    "focal_loss = sm.losses.CategoricalFocalLoss()\n",
    "total_loss = dice_loss + focal_loss\n",
    "\n",
    "# Metrics\n",
    "metrics = [\n",
    "    sm.metrics.IOUScore(threshold=0.5),\n",
    "    sm.metrics.FScore(threshold=0.5)\n",
    "]\n",
    "\n",
    "# actulally total_loss can be imported directly from library, above example just show you how to manipulate with losses\n",
    "# total_loss = sm.losses.binary_focal_dice_loss # or sm.losses.categorical_focal_dice_loss\n",
    "\n"
   ]
  },
  {
   "cell_type": "code",
   "execution_count": 12,
   "metadata": {},
   "outputs": [],
   "source": [
    "preprocess_input = sm.get_preprocessing(BACKBONE)"
   ]
  },
  {
   "cell_type": "code",
   "execution_count": 13,
   "metadata": {},
   "outputs": [],
   "source": [
    "\n",
    "#Preprocess input data - otherwise you end up with garbage resutls\n",
    "# and potentially model that does not converge.\n",
    "X_train_prep = preprocess_input(X_train)\n",
    "X_test_prep = preprocess_input(X_test)"
   ]
  },
  {
   "cell_type": "code",
   "execution_count": 14,
   "metadata": {},
   "outputs": [
    {
     "name": "stdout",
     "output_type": "stream",
     "text": [
      "Model: \"model\"\n",
      "__________________________________________________________________________________________________\n",
      " Layer (type)                Output Shape                 Param #   Connected to                  \n",
      "==================================================================================================\n",
      " input_1 (InputLayer)        [(None, 64, 64, 64, 3)]      0         []                            \n",
      "                                                                                                  \n",
      " block1_conv1 (Conv3D)       (None, 64, 64, 64, 64)       5248      ['input_1[0][0]']             \n",
      "                                                                                                  \n",
      " block1_conv2 (Conv3D)       (None, 64, 64, 64, 64)       110656    ['block1_conv1[0][0]']        \n",
      "                                                                                                  \n",
      " block1_pool (MaxPooling3D)  (None, 32, 32, 32, 64)       0         ['block1_conv2[0][0]']        \n",
      "                                                                                                  \n",
      " block2_conv1 (Conv3D)       (None, 32, 32, 32, 128)      221312    ['block1_pool[0][0]']         \n",
      "                                                                                                  \n",
      " block2_conv2 (Conv3D)       (None, 32, 32, 32, 128)      442496    ['block2_conv1[0][0]']        \n",
      "                                                                                                  \n",
      " block2_pool (MaxPooling3D)  (None, 16, 16, 16, 128)      0         ['block2_conv2[0][0]']        \n",
      "                                                                                                  \n",
      " block3_conv1 (Conv3D)       (None, 16, 16, 16, 256)      884992    ['block2_pool[0][0]']         \n",
      "                                                                                                  \n",
      " block3_conv2 (Conv3D)       (None, 16, 16, 16, 256)      1769728   ['block3_conv1[0][0]']        \n",
      "                                                                                                  \n",
      " block3_conv3 (Conv3D)       (None, 16, 16, 16, 256)      1769728   ['block3_conv2[0][0]']        \n",
      "                                                                                                  \n",
      " block3_pool (MaxPooling3D)  (None, 8, 8, 8, 256)         0         ['block3_conv3[0][0]']        \n",
      "                                                                                                  \n",
      " block4_conv1 (Conv3D)       (None, 8, 8, 8, 512)         3539456   ['block3_pool[0][0]']         \n",
      "                                                                                                  \n",
      " block4_conv2 (Conv3D)       (None, 8, 8, 8, 512)         7078400   ['block4_conv1[0][0]']        \n",
      "                                                                                                  \n",
      " block4_conv3 (Conv3D)       (None, 8, 8, 8, 512)         7078400   ['block4_conv2[0][0]']        \n",
      "                                                                                                  \n",
      " block4_pool (MaxPooling3D)  (None, 4, 4, 4, 512)         0         ['block4_conv3[0][0]']        \n",
      "                                                                                                  \n",
      " block5_conv1 (Conv3D)       (None, 4, 4, 4, 512)         7078400   ['block4_pool[0][0]']         \n",
      "                                                                                                  \n",
      " block5_conv2 (Conv3D)       (None, 4, 4, 4, 512)         7078400   ['block5_conv1[0][0]']        \n",
      "                                                                                                  \n",
      " block5_conv3 (Conv3D)       (None, 4, 4, 4, 512)         7078400   ['block5_conv2[0][0]']        \n",
      "                                                                                                  \n",
      " block5_pool (MaxPooling3D)  (None, 2, 2, 2, 512)         0         ['block5_conv3[0][0]']        \n",
      "                                                                                                  \n",
      " center_block1_conv (Conv3D  (None, 2, 2, 2, 512)         7077888   ['block5_pool[0][0]']         \n",
      " )                                                                                                \n",
      "                                                                                                  \n",
      " center_block1_bn (BatchNor  (None, 2, 2, 2, 512)         2048      ['center_block1_conv[0][0]']  \n",
      " malization)                                                                                      \n",
      "                                                                                                  \n",
      " center_block1_relu (Activa  (None, 2, 2, 2, 512)         0         ['center_block1_bn[0][0]']    \n",
      " tion)                                                                                            \n",
      "                                                                                                  \n",
      " center_block2_conv (Conv3D  (None, 2, 2, 2, 512)         7077888   ['center_block1_relu[0][0]']  \n",
      " )                                                                                                \n",
      "                                                                                                  \n",
      " center_block2_bn (BatchNor  (None, 2, 2, 2, 512)         2048      ['center_block2_conv[0][0]']  \n",
      " malization)                                                                                      \n",
      "                                                                                                  \n",
      " center_block2_relu (Activa  (None, 2, 2, 2, 512)         0         ['center_block2_bn[0][0]']    \n",
      " tion)                                                                                            \n",
      "                                                                                                  \n",
      " decoder_stage0_upsampling   (None, 4, 4, 4, 512)         0         ['center_block2_relu[0][0]']  \n",
      " (UpSampling3D)                                                                                   \n",
      "                                                                                                  \n",
      " decoder_stage0_concat (Con  (None, 4, 4, 4, 1024)        0         ['decoder_stage0_upsampling[0]\n",
      " catenate)                                                          [0]',                         \n",
      "                                                                     'block5_conv3[0][0]']        \n",
      "                                                                                                  \n",
      " decoder_stage0a_conv (Conv  (None, 4, 4, 4, 256)         7077888   ['decoder_stage0_concat[0][0]'\n",
      " 3D)                                                                ]                             \n",
      "                                                                                                  \n",
      " decoder_stage0a_bn (BatchN  (None, 4, 4, 4, 256)         1024      ['decoder_stage0a_conv[0][0]']\n",
      " ormalization)                                                                                    \n",
      "                                                                                                  \n",
      " decoder_stage0a_relu (Acti  (None, 4, 4, 4, 256)         0         ['decoder_stage0a_bn[0][0]']  \n",
      " vation)                                                                                          \n",
      "                                                                                                  \n",
      " decoder_stage0b_conv (Conv  (None, 4, 4, 4, 256)         1769472   ['decoder_stage0a_relu[0][0]']\n",
      " 3D)                                                                                              \n",
      "                                                                                                  \n",
      " decoder_stage0b_bn (BatchN  (None, 4, 4, 4, 256)         1024      ['decoder_stage0b_conv[0][0]']\n",
      " ormalization)                                                                                    \n",
      "                                                                                                  \n",
      " decoder_stage0b_relu (Acti  (None, 4, 4, 4, 256)         0         ['decoder_stage0b_bn[0][0]']  \n",
      " vation)                                                                                          \n",
      "                                                                                                  \n",
      " decoder_stage1_upsampling   (None, 8, 8, 8, 256)         0         ['decoder_stage0b_relu[0][0]']\n",
      " (UpSampling3D)                                                                                   \n",
      "                                                                                                  \n",
      " decoder_stage1_concat (Con  (None, 8, 8, 8, 768)         0         ['decoder_stage1_upsampling[0]\n",
      " catenate)                                                          [0]',                         \n",
      "                                                                     'block4_conv3[0][0]']        \n",
      "                                                                                                  \n",
      " decoder_stage1a_conv (Conv  (None, 8, 8, 8, 128)         2654208   ['decoder_stage1_concat[0][0]'\n",
      " 3D)                                                                ]                             \n",
      "                                                                                                  \n",
      " decoder_stage1a_bn (BatchN  (None, 8, 8, 8, 128)         512       ['decoder_stage1a_conv[0][0]']\n",
      " ormalization)                                                                                    \n",
      "                                                                                                  \n",
      " decoder_stage1a_relu (Acti  (None, 8, 8, 8, 128)         0         ['decoder_stage1a_bn[0][0]']  \n",
      " vation)                                                                                          \n",
      "                                                                                                  \n",
      " decoder_stage1b_conv (Conv  (None, 8, 8, 8, 128)         442368    ['decoder_stage1a_relu[0][0]']\n",
      " 3D)                                                                                              \n",
      "                                                                                                  \n",
      " decoder_stage1b_bn (BatchN  (None, 8, 8, 8, 128)         512       ['decoder_stage1b_conv[0][0]']\n",
      " ormalization)                                                                                    \n",
      "                                                                                                  \n",
      " decoder_stage1b_relu (Acti  (None, 8, 8, 8, 128)         0         ['decoder_stage1b_bn[0][0]']  \n",
      " vation)                                                                                          \n",
      "                                                                                                  \n",
      " decoder_stage2_upsampling   (None, 16, 16, 16, 128)      0         ['decoder_stage1b_relu[0][0]']\n",
      " (UpSampling3D)                                                                                   \n",
      "                                                                                                  \n",
      " decoder_stage2_concat (Con  (None, 16, 16, 16, 384)      0         ['decoder_stage2_upsampling[0]\n",
      " catenate)                                                          [0]',                         \n",
      "                                                                     'block3_conv3[0][0]']        \n",
      "                                                                                                  \n",
      " decoder_stage2a_conv (Conv  (None, 16, 16, 16, 64)       663552    ['decoder_stage2_concat[0][0]'\n",
      " 3D)                                                                ]                             \n",
      "                                                                                                  \n",
      " decoder_stage2a_bn (BatchN  (None, 16, 16, 16, 64)       256       ['decoder_stage2a_conv[0][0]']\n",
      " ormalization)                                                                                    \n",
      "                                                                                                  \n",
      " decoder_stage2a_relu (Acti  (None, 16, 16, 16, 64)       0         ['decoder_stage2a_bn[0][0]']  \n",
      " vation)                                                                                          \n",
      "                                                                                                  \n",
      " decoder_stage2b_conv (Conv  (None, 16, 16, 16, 64)       110592    ['decoder_stage2a_relu[0][0]']\n",
      " 3D)                                                                                              \n",
      "                                                                                                  \n",
      " decoder_stage2b_bn (BatchN  (None, 16, 16, 16, 64)       256       ['decoder_stage2b_conv[0][0]']\n",
      " ormalization)                                                                                    \n",
      "                                                                                                  \n",
      " decoder_stage2b_relu (Acti  (None, 16, 16, 16, 64)       0         ['decoder_stage2b_bn[0][0]']  \n",
      " vation)                                                                                          \n",
      "                                                                                                  \n",
      " decoder_stage3_upsampling   (None, 32, 32, 32, 64)       0         ['decoder_stage2b_relu[0][0]']\n",
      " (UpSampling3D)                                                                                   \n",
      "                                                                                                  \n",
      " decoder_stage3_concat (Con  (None, 32, 32, 32, 192)      0         ['decoder_stage3_upsampling[0]\n",
      " catenate)                                                          [0]',                         \n",
      "                                                                     'block2_conv2[0][0]']        \n",
      "                                                                                                  \n",
      " decoder_stage3a_conv (Conv  (None, 32, 32, 32, 32)       165888    ['decoder_stage3_concat[0][0]'\n",
      " 3D)                                                                ]                             \n",
      "                                                                                                  \n",
      " decoder_stage3a_bn (BatchN  (None, 32, 32, 32, 32)       128       ['decoder_stage3a_conv[0][0]']\n",
      " ormalization)                                                                                    \n",
      "                                                                                                  \n",
      " decoder_stage3a_relu (Acti  (None, 32, 32, 32, 32)       0         ['decoder_stage3a_bn[0][0]']  \n",
      " vation)                                                                                          \n",
      "                                                                                                  \n",
      " decoder_stage3b_conv (Conv  (None, 32, 32, 32, 32)       27648     ['decoder_stage3a_relu[0][0]']\n",
      " 3D)                                                                                              \n",
      "                                                                                                  \n",
      " decoder_stage3b_bn (BatchN  (None, 32, 32, 32, 32)       128       ['decoder_stage3b_conv[0][0]']\n",
      " ormalization)                                                                                    \n",
      "                                                                                                  \n",
      " decoder_stage3b_relu (Acti  (None, 32, 32, 32, 32)       0         ['decoder_stage3b_bn[0][0]']  \n",
      " vation)                                                                                          \n",
      "                                                                                                  \n",
      " decoder_stage4_upsampling   (None, 64, 64, 64, 32)       0         ['decoder_stage3b_relu[0][0]']\n",
      " (UpSampling3D)                                                                                   \n",
      "                                                                                                  \n",
      " decoder_stage4a_conv (Conv  (None, 64, 64, 64, 16)       13824     ['decoder_stage4_upsampling[0]\n",
      " 3D)                                                                [0]']                         \n",
      "                                                                                                  \n",
      " decoder_stage4a_bn (BatchN  (None, 64, 64, 64, 16)       64        ['decoder_stage4a_conv[0][0]']\n",
      " ormalization)                                                                                    \n",
      "                                                                                                  \n",
      " decoder_stage4a_relu (Acti  (None, 64, 64, 64, 16)       0         ['decoder_stage4a_bn[0][0]']  \n",
      " vation)                                                                                          \n",
      "                                                                                                  \n",
      " decoder_stage4b_conv (Conv  (None, 64, 64, 64, 16)       6912      ['decoder_stage4a_relu[0][0]']\n",
      " 3D)                                                                                              \n",
      "                                                                                                  \n",
      " decoder_stage4b_bn (BatchN  (None, 64, 64, 64, 16)       64        ['decoder_stage4b_conv[0][0]']\n",
      " ormalization)                                                                                    \n",
      "                                                                                                  \n",
      " decoder_stage4b_relu (Acti  (None, 64, 64, 64, 16)       0         ['decoder_stage4b_bn[0][0]']  \n",
      " vation)                                                                                          \n",
      "                                                                                                  \n",
      " final_conv (Conv3D)         (None, 64, 64, 64, 8)        3464      ['decoder_stage4b_relu[0][0]']\n",
      "                                                                                                  \n",
      " softmax (Activation)        (None, 64, 64, 64, 8)        0         ['final_conv[0][0]']          \n",
      "                                                                                                  \n",
      "==================================================================================================\n",
      "Total params: 71235272 (271.74 MB)\n",
      "Trainable params: 71231240 (271.73 MB)\n",
      "Non-trainable params: 4032 (15.75 KB)\n",
      "__________________________________________________________________________________________________\n",
      "None\n"
     ]
    }
   ],
   "source": [
    "#Define the model. Here we use Unet but we can also use other model architectures from the library.\n",
    "model = sm.Unet(BACKBONE, classes = n_classes,\n",
    "                input_shape = (patch_size, patch_size, patch_size, channels),\n",
    "                encoder_weights = encoder_weights,\n",
    "                activation = activation)\n",
    "\n",
    "model.compile(optimizer = optim, loss=total_loss, metrics=metrics)\n",
    "print(model.summary())"
   ]
  },
  {
   "cell_type": "code",
   "execution_count": 15,
   "metadata": {},
   "outputs": [
    {
     "name": "stdout",
     "output_type": "stream",
     "text": [
      "(26, 64, 64, 64, 3)\n",
      "(230, 64, 64, 64, 3)\n"
     ]
    }
   ],
   "source": [
    "print(X_test_prep.shape)\n",
    "print(X_train_prep.shape)"
   ]
  },
  {
   "cell_type": "code",
   "execution_count": null,
   "metadata": {},
   "outputs": [],
   "source": [
    "#Fit the model\n",
    "history=model.fit(X_train_prep,\n",
    "          y_train,\n",
    "          batch_size = 8,\n",
    "          epochs = 2,\n",
    "          verbose = 1,\n",
    "          validation_data = (X_test_prep, y_test)) # took time"
   ]
  },
  {
   "cell_type": "code",
   "execution_count": null,
   "metadata": {},
   "outputs": [],
   "source": [
    "#Save model for future use\n",
    "model.save('./3D_model_vgg16_2epochs.h5')\n"
   ]
  },
  {
   "cell_type": "code",
   "execution_count": null,
   "metadata": {},
   "outputs": [],
   "source": [
    "###\n",
    "#plot the training and validation IoU and loss at each epoch\n",
    "loss = history.history['loss']\n",
    "val_loss = history.history['val_loss']\n",
    "epochs = range(1, len(loss) + 1)\n",
    "plt.plot(epochs, loss, 'y', label='Training loss')\n",
    "plt.plot(epochs, val_loss, 'r', label='Validation loss')\n",
    "plt.title('Training and validation loss')\n",
    "plt.xlabel('Epochs')\n",
    "plt.ylabel('Loss')\n",
    "plt.legend()\n",
    "plt.show()\n",
    "\n",
    "acc = history.history['iou_score']\n",
    "val_acc = history.history['val_iou_score']\n",
    "\n",
    "plt.plot(epochs, acc, 'y', label='Training IOU')\n",
    "plt.plot(epochs, val_acc, 'r', label='Validation IOU')\n",
    "plt.title('Training and validation IOU')\n",
    "plt.xlabel('Epochs')\n",
    "plt.ylabel('IOU')\n",
    "plt.legend()\n",
    "plt.show()"
   ]
  },
  {
   "cell_type": "code",
   "execution_count": 16,
   "metadata": {},
   "outputs": [],
   "source": [
    "#Load the pretrained model for testing and predictions.\n",
    "from keras.models import load_model\n",
    "my_model = load_model('./3D_model_vgg16_2epochs.h5', compile=False)\n",
    "#If you load a different model do not forget to preprocess accordingly."
   ]
  },
  {
   "cell_type": "code",
   "execution_count": 17,
   "metadata": {},
   "outputs": [
    {
     "ename": "",
     "evalue": "",
     "output_type": "error",
     "traceback": [
      "\u001b[1;31mThe Kernel crashed while executing code in the current cell or a previous cell. \n",
      "\u001b[1;31mPlease review the code in the cell(s) to identify a possible cause of the failure. \n",
      "\u001b[1;31mClick <a href='https://aka.ms/vscodeJupyterKernelCrash'>here</a> for more info. \n",
      "\u001b[1;31mView Jupyter <a href='command:jupyter.viewOutput'>log</a> for further details."
     ]
    }
   ],
   "source": [
    "# Predict on the test data\n",
    "y_pred = my_model.predict(X_test,batch_size=1)  # Shape: (batch_size, 64, 64, 64, 8)\n",
    "\n",
    "# Convert predicted probabilities to class labels\n",
    "y_pred_argmax = np.argmax(y_pred, axis=-1)  # Shape: (batch_size, 64, 64, 64)\n",
    "\n",
    "# Convert one-hot encoded y_test to class labels\n",
    "y_test_argmax = np.argmax(y_test, axis=-1)  # Shape: (batch_size, 64, 64, 64)\n",
    "\n",
    "# Optional: Confirm shapes\n",
    "print(\"Predicted mask shape:\", y_pred.shape)\n",
    "print(\"y_pred_argmax shape:\", y_pred_argmax.shape)\n",
    "print(\"y_test_argmax shape:\", y_test_argmax.shape)\n",
    "print(\"Unique classes \" , np.unique(y_pred_argmax))"
   ]
  },
  {
   "cell_type": "code",
   "execution_count": 2,
   "metadata": {},
   "outputs": [
    {
     "name": "stdout",
     "output_type": "stream",
     "text": [
      "❌ ERROR: 'X_test' is not defined. Please load or define your X_test data.\n"
     ]
    }
   ],
   "source": [
    "# === STEP 1: Imports ===\n",
    "import numpy as np\n",
    "import tensorflow as tf\n",
    "from keras.models import load_model\n",
    "\n",
    "# === STEP 2: (Optional) Prevent GPU crash due to memory spikes ===\n",
    "gpus = tf.config.experimental.list_physical_devices('GPU')\n",
    "if gpus:\n",
    "    try:\n",
    "        for gpu in gpus:\n",
    "            tf.config.experimental.set_memory_growth(gpu, True)\n",
    "    except RuntimeError as e:\n",
    "        print(\"GPU memory config error:\", e)\n",
    "\n",
    "# === STEP 3: Load model ===\n",
    "my_model = load_model('./3D_model_vgg16_2epochs.h5', compile=False)\n",
    "\n",
    "# === STEP 4: Dummy load/test sample (replace with your actual loading code) ===\n",
    "# Your actual data loading might be different, here's an example:\n",
    "# Assuming input shape is (64, 64, 64, 1) for 1 channel\n",
    "# If your data is in a different format, update this accordingly\n",
    "\n",
    "# For testing, simulate a single sample if needed\n",
    "# sample_input = np.random.rand(1, 64, 64, 64, 1)  # Use this for mock testing\n",
    "# OR load your actual test data\n",
    "# Load or define X_test here, for example:\n",
    "# X_test = np.load('X_test.npy')  # Shape: (num_samples, 64, 64, 64, 1)\n",
    "\n",
    "# === STEP 5: Check and predict on one test sample ===\n",
    "# NOTE: Replace this with your real X_test loading logic\n",
    "try:\n",
    "    sample_input = np.expand_dims(X_test[0], axis=0)  # shape: (1, 64, 64, 64, 1)\n",
    "\n",
    "    # === STEP 6: Predict ===\n",
    "    y_pred = my_model.predict(sample_input)  # Shape: (1, 64, 64, 64, 8)\n",
    "\n",
    "    # === STEP 7: Postprocess ===\n",
    "    y_pred_argmax = np.argmax(y_pred, axis=-1)  # Shape: (1, 64, 64, 64)\n",
    "    print(\"Prediction successful ✅\")\n",
    "    print(\"Predicted output shape:\", y_pred.shape)\n",
    "    print(\"Argmax shape:\", y_pred_argmax.shape)\n",
    "    print(\"Unique predicted classes:\", np.unique(y_pred_argmax))\n",
    "\n",
    "except NameError:\n",
    "    print(\"❌ ERROR: 'X_test' is not defined. Please load or define your X_test data.\")\n"
   ]
  }
 ],
 "metadata": {
  "kernelspec": {
   "display_name": "Python 3",
   "language": "python",
   "name": "python3"
  },
  "language_info": {
   "codemirror_mode": {
    "name": "ipython",
    "version": 3
   },
   "file_extension": ".py",
   "mimetype": "text/x-python",
   "name": "python",
   "nbconvert_exporter": "python",
   "pygments_lexer": "ipython3",
   "version": "3.10.0"
  }
 },
 "nbformat": 4,
 "nbformat_minor": 2
}
